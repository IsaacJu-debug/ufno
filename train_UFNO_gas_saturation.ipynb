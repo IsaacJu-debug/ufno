{
 "cells": [
  {
   "cell_type": "code",
   "execution_count": null,
   "id": "e75bd61b",
   "metadata": {},
   "outputs": [],
   "source": [
    "import torch\n",
    "import numpy as np\n",
    "from ufno import *\n",
    "from lploss import *\n",
    "\n",
    "torch.manual_seed(0)\n",
    "np.random.seed(0)"
   ]
  },
  {
   "cell_type": "code",
   "execution_count": null,
   "id": "de417449",
   "metadata": {},
   "outputs": [],
   "source": [
    "DATA_DIR = '/oak/stanford/schools/ees/smbenson/gegewen/UFNO_dataset/dataset/'\n",
    "\n",
    "train_a = torch.load(f'{DATA_DIR}/sg_train_a.pt')\n",
    "train_u = torch.load(f'{DATA_DIR}/sg_train_u.pt')\n",
    "print(train_a.shape)\n",
    "print(train_u.shape)"
   ]
  },
  {
   "cell_type": "code",
   "execution_count": null,
   "id": "992db92a",
   "metadata": {},
   "outputs": [],
   "source": [
    "mode1 = 10\n",
    "mode2 = 10\n",
    "mode3 = 10\n",
    "width = 36\n",
    "device = torch.device('cuda:0')\n",
    "model = Net3d(mode1, mode2, mode3, width)\n",
    "    \n",
    "model.to(device)"
   ]
  },
  {
   "cell_type": "code",
   "execution_count": null,
   "id": "06f39ea9",
   "metadata": {
    "scrolled": false
   },
   "outputs": [],
   "source": [
    "# prepare for calculating x direction derivatives \n",
    "time_grid = np.cumsum(np.power(1.421245, range(24)))\n",
    "time_grid /= np.max(time_grid)\n",
    "grid_x = train_a[0,0,:,0,-3]\n",
    "grid_dx = grid_x[1:-1] + grid_x[:-2]/2 + grid_x[2:]/2\n",
    "grid_dx = grid_dx[None, None, :, None].to(device)"
   ]
  },
  {
   "cell_type": "code",
   "execution_count": null,
   "id": "dbb0b554",
   "metadata": {},
   "outputs": [],
   "source": [
    "epochs = 100\n",
    "e_start = 0\n",
    "learning_rate = 0.001\n",
    "scheduler_step = 2\n",
    "scheduler_gamma = 0.9\n",
    "learning_rate"
   ]
  },
  {
   "cell_type": "code",
   "execution_count": null,
   "id": "ebe015ef",
   "metadata": {},
   "outputs": [],
   "source": [
    "batch_size = 4\n",
    "\n",
    "train_loader = torch.utils.data.DataLoader(torch.utils.data.TensorDataset(train_a, train_u), batch_size=batch_size, shuffle=True)"
   ]
  },
  {
   "cell_type": "code",
   "execution_count": null,
   "id": "7ff111c7",
   "metadata": {},
   "outputs": [],
   "source": [
    "optimizer = torch.optim.Adam(model.parameters(), lr=learning_rate, weight_decay=1e-4)\n",
    "scheduler = torch.optim.lr_scheduler.StepLR(optimizer, step_size=scheduler_step, gamma=scheduler_gamma)\n",
    "myloss = LpLoss(size_average=False)"
   ]
  },
  {
   "cell_type": "code",
   "execution_count": null,
   "id": "f0245ca4",
   "metadata": {
    "scrolled": false
   },
   "outputs": [],
   "source": [
    "train_l2 = 0.0\n",
    "for ep in range(1,epochs+1):\n",
    "    model.train()\n",
    "    train_l2 = 0\n",
    "    counter = 0\n",
    "    for x, y in train_loader:\n",
    "        x, y = x.to(device), y.to(device)\n",
    "        dy = (y[:,:,2:,:] - y[:,:,:-2,:])/grid_dx\n",
    "        \n",
    "        optimizer.zero_grad()\n",
    "        \n",
    "        mask = (x[:,:,:,0:1,0]!=0).repeat(1,1,1,24)\n",
    "        dy = (y[:,:,2:,:] - y[:,:,:-2,:])/grid_dx\n",
    "        pred = model(x).view(-1,96,200,24)\n",
    "        dy_pred = (pred[:,:,2:,:] - pred[:,:,:-2,:])/grid_dx\n",
    "        ori_loss = 0\n",
    "        der_loss = 0\n",
    "        \n",
    "        # original loss\n",
    "        for i in range(batch_size):\n",
    "            ori_loss += myloss(pred[i,...][mask[i,...]].reshape(1, -1), y[i,...][mask[i,...]].reshape(1, -1))\n",
    "\n",
    "        # 1st derivative loss\n",
    "        dy_pred = (pred[:,:,2:,:] - pred[:,:,:-2,:])/grid_dx\n",
    "        mask_dy = mask[:,:,:198,:]\n",
    "        for i in range(batch_size):\n",
    "            der_loss += myloss(dy_pred[i,...][mask_dy[i,...]].reshape(1, -1), dy[i,...][mask_dy[i,...]].view(1, -1))\n",
    "\n",
    "        loss = ori_loss + 0.5 * der_loss\n",
    "        \n",
    "        loss.backward()\n",
    "        optimizer.step()\n",
    "        train_l2 += loss.item()\n",
    "\n",
    "        counter += 1\n",
    "        if counter % 100 == 0:\n",
    "            print(f'epoch: {ep}, batch: {counter}/{len(train_loader)}, train loss: {loss.item()/batch_size:.4f}')\n",
    "        \n",
    "    scheduler.step()\n",
    "    \n",
    "    print(f'epoch: {ep}, train loss: {train_l2/train_a.shape[0]:.4f}')\n",
    "    \n",
    "    lr_ = optimizer.param_groups[0]['lr']\n",
    "    if ep % 2 == 0:\n",
    "        PATH = f'saved_models/SG_UFNO_{ep}ep_{width}width_{mode1}m1_{mode2}m2_{train_a.shape[0]}train_{lr_:.2e}lr'\n",
    "        torch.save(model, PATH)"
   ]
  },
  {
   "cell_type": "code",
   "execution_count": null,
   "id": "ae418418",
   "metadata": {},
   "outputs": [],
   "source": []
  }
 ],
 "metadata": {
  "kernelspec": {
   "display_name": "Python 3",
   "language": "python",
   "name": "python3"
  },
  "language_info": {
   "codemirror_mode": {
    "name": "ipython",
    "version": 3
   },
   "file_extension": ".py",
   "mimetype": "text/x-python",
   "name": "python",
   "nbconvert_exporter": "python",
   "pygments_lexer": "ipython3",
   "version": "3.9.0"
  }
 },
 "nbformat": 4,
 "nbformat_minor": 5
}
